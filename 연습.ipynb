{
 "cells": [
  {
   "cell_type": "markdown",
   "id": "3aef591a",
   "metadata": {},
   "source": [
    "* name, sib__ , pa__, tic__, fair , passenger, cabin 빼고서 하기\n",
    "* feature , label 분리 (survive= label)\n",
    "* data read\n",
    "* 전처리\n",
    "* 문자열 encoding\n",
    "* scaling\n"
   ]
  },
  {
   "cell_type": "code",
   "execution_count": 28,
   "id": "43abb98d",
   "metadata": {
    "ExecuteTime": {
     "end_time": "2022-07-01T07:56:53.385529Z",
     "start_time": "2022-07-01T07:56:53.367577Z"
    }
   },
   "outputs": [
    {
     "name": "stdout",
     "output_type": "stream",
     "text": [
      "<class 'pandas.core.frame.DataFrame'>\n",
      "RangeIndex: 891 entries, 0 to 890\n",
      "Data columns (total 12 columns):\n",
      " #   Column       Non-Null Count  Dtype  \n",
      "---  ------       --------------  -----  \n",
      " 0   PassengerId  891 non-null    int64  \n",
      " 1   Survived     891 non-null    int64  \n",
      " 2   Pclass       891 non-null    int64  \n",
      " 3   Name         891 non-null    object \n",
      " 4   Sex          891 non-null    object \n",
      " 5   Age          714 non-null    float64\n",
      " 6   SibSp        891 non-null    int64  \n",
      " 7   Parch        891 non-null    int64  \n",
      " 8   Ticket       891 non-null    object \n",
      " 9   Fare         891 non-null    float64\n",
      " 10  Cabin        204 non-null    object \n",
      " 11  Embarked     889 non-null    object \n",
      "dtypes: float64(2), int64(5), object(5)\n",
      "memory usage: 83.7+ KB\n"
     ]
    }
   ],
   "source": [
    "import pandas as pd\n",
    "surv = pd.read_csv('./train.csv')\n",
    "surv.info()"
   ]
  },
  {
   "cell_type": "code",
   "execution_count": 29,
   "id": "281a0b2c",
   "metadata": {
    "ExecuteTime": {
     "end_time": "2022-07-01T07:56:54.977201Z",
     "start_time": "2022-07-01T07:56:54.968226Z"
    }
   },
   "outputs": [],
   "source": [
    "surv_1 = pd.DataFrame(surv)\n",
    "surv_1 = surv_1.drop(columns=['PassengerId', 'Name', 'SibSp', 'Parch', 'Ticket', 'Fare', 'Cabin'])"
   ]
  },
  {
   "cell_type": "code",
   "execution_count": 30,
   "id": "111c1360",
   "metadata": {
    "ExecuteTime": {
     "end_time": "2022-07-01T07:56:55.592418Z",
     "start_time": "2022-07-01T07:56:55.574309Z"
    }
   },
   "outputs": [],
   "source": [
    "surv_1.isna().sum()\n",
    "surv_2 = surv_1.copy()"
   ]
  },
  {
   "cell_type": "code",
   "execution_count": 56,
   "id": "0e4f90e8",
   "metadata": {
    "ExecuteTime": {
     "end_time": "2022-07-01T08:00:59.560364Z",
     "start_time": "2022-07-01T08:00:59.543416Z"
    }
   },
   "outputs": [],
   "source": [
    "surv_2['Age'] = surv_2['Age'].fillna(surv_1['Age'].mean())\n",
    "surv_2['Embarked'] = surv_2['Embarked'].fillna('S')\n",
    "surv_2['Age']= round(surv_2['Age'],0)"
   ]
  },
  {
   "cell_type": "code",
   "execution_count": 57,
   "id": "a63fd041",
   "metadata": {
    "ExecuteTime": {
     "end_time": "2022-07-01T08:01:07.469207Z",
     "start_time": "2022-07-01T08:01:07.460232Z"
    }
   },
   "outputs": [
    {
     "data": {
      "text/plain": [
       "0      22.0\n",
       "1      38.0\n",
       "2      26.0\n",
       "3      35.0\n",
       "4      35.0\n",
       "       ... \n",
       "886    27.0\n",
       "887    19.0\n",
       "888    30.0\n",
       "889    26.0\n",
       "890    32.0\n",
       "Name: Age, Length: 891, dtype: float64"
      ]
     },
     "execution_count": 57,
     "metadata": {},
     "output_type": "execute_result"
    }
   ],
   "source": [
    "surv_2['Age']"
   ]
  },
  {
   "cell_type": "code",
   "execution_count": 58,
   "id": "7556e887",
   "metadata": {
    "ExecuteTime": {
     "end_time": "2022-07-01T08:01:23.428441Z",
     "start_time": "2022-07-01T08:01:23.417474Z"
    },
    "scrolled": true
   },
   "outputs": [
    {
     "data": {
      "text/plain": [
       "Survived    0\n",
       "Pclass      0\n",
       "Sex         0\n",
       "Age         0\n",
       "Embarked    0\n",
       "dtype: int64"
      ]
     },
     "execution_count": 58,
     "metadata": {},
     "output_type": "execute_result"
    }
   ],
   "source": [
    "surv_2.isna().sum()"
   ]
  },
  {
   "cell_type": "code",
   "execution_count": 59,
   "id": "71b460c3",
   "metadata": {
    "ExecuteTime": {
     "end_time": "2022-07-01T08:01:24.029887Z",
     "start_time": "2022-07-01T08:01:24.008929Z"
    }
   },
   "outputs": [
    {
     "name": "stdout",
     "output_type": "stream",
     "text": [
      "<class 'pandas.core.frame.DataFrame'>\n",
      "RangeIndex: 891 entries, 0 to 890\n",
      "Data columns (total 5 columns):\n",
      " #   Column    Non-Null Count  Dtype  \n",
      "---  ------    --------------  -----  \n",
      " 0   Survived  891 non-null    int64  \n",
      " 1   Pclass    891 non-null    int64  \n",
      " 2   Sex       891 non-null    int64  \n",
      " 3   Age       891 non-null    float64\n",
      " 4   Embarked  891 non-null    int64  \n",
      "dtypes: float64(1), int64(4)\n",
      "memory usage: 34.9 KB\n"
     ]
    }
   ],
   "source": [
    "surv_2.info()"
   ]
  },
  {
   "cell_type": "code",
   "execution_count": 60,
   "id": "5cfc28a5",
   "metadata": {
    "ExecuteTime": {
     "end_time": "2022-07-01T08:01:25.027236Z",
     "start_time": "2022-07-01T08:01:25.019258Z"
    }
   },
   "outputs": [],
   "source": [
    "from sklearn.preprocessing import LabelEncoder\n",
    "\n",
    "encoder = LabelEncoder()\n",
    "encoder.fit(surv_2['Sex'])\n",
    "labels = encoder.transform(surv_2['Sex'])\n",
    "surv_2['Sex'] = labels"
   ]
  },
  {
   "cell_type": "code",
   "execution_count": 61,
   "id": "b0136057",
   "metadata": {
    "ExecuteTime": {
     "end_time": "2022-07-01T08:01:25.835853Z",
     "start_time": "2022-07-01T08:01:25.824881Z"
    }
   },
   "outputs": [],
   "source": [
    "encoder = LabelEncoder()\n",
    "encoder.fit(surv_2['Embarked'])\n",
    "labels2 = encoder.transform(surv_2['Embarked'])\n",
    "surv_2['Embarked'] = labels2"
   ]
  },
  {
   "cell_type": "code",
   "execution_count": 71,
   "id": "d649ac25",
   "metadata": {
    "ExecuteTime": {
     "end_time": "2022-07-01T08:06:29.448698Z",
     "start_time": "2022-07-01T08:06:29.430748Z"
    }
   },
   "outputs": [
    {
     "data": {
      "text/plain": [
       "count    891.000000\n",
       "mean      29.754209\n",
       "std       13.000828\n",
       "min        0.000000\n",
       "25%       22.000000\n",
       "50%       30.000000\n",
       "75%       35.000000\n",
       "max       80.000000\n",
       "Name: Age, dtype: float64"
      ]
     },
     "execution_count": 71,
     "metadata": {},
     "output_type": "execute_result"
    }
   ],
   "source": [
    "import matplotlib.pyplot as plt\n",
    "\n",
    "surv_2['Age'].describe()"
   ]
  },
  {
   "cell_type": "code",
   "execution_count": 72,
   "id": "0a32e62a",
   "metadata": {
    "ExecuteTime": {
     "end_time": "2022-07-01T08:06:44.698862Z",
     "start_time": "2022-07-01T08:06:44.687902Z"
    }
   },
   "outputs": [
    {
     "data": {
      "text/plain": [
       "count    891.000000\n",
       "mean       1.536476\n",
       "std        0.791503\n",
       "min        0.000000\n",
       "25%        1.000000\n",
       "50%        2.000000\n",
       "75%        2.000000\n",
       "max        2.000000\n",
       "Name: Embarked, dtype: float64"
      ]
     },
     "execution_count": 72,
     "metadata": {},
     "output_type": "execute_result"
    }
   ],
   "source": [
    "surv_2['Embarked'].describe()"
   ]
  },
  {
   "cell_type": "code",
   "execution_count": 73,
   "id": "e83f86e7",
   "metadata": {
    "ExecuteTime": {
     "end_time": "2022-07-01T08:06:57.324062Z",
     "start_time": "2022-07-01T08:06:57.309118Z"
    }
   },
   "outputs": [
    {
     "data": {
      "text/plain": [
       "count    891.000000\n",
       "mean       2.308642\n",
       "std        0.836071\n",
       "min        1.000000\n",
       "25%        2.000000\n",
       "50%        3.000000\n",
       "75%        3.000000\n",
       "max        3.000000\n",
       "Name: Pclass, dtype: float64"
      ]
     },
     "execution_count": 73,
     "metadata": {},
     "output_type": "execute_result"
    }
   ],
   "source": [
    "surv_2['Pclass'].describe()"
   ]
  },
  {
   "cell_type": "code",
   "execution_count": 76,
   "id": "a513f5c1",
   "metadata": {
    "ExecuteTime": {
     "end_time": "2022-07-01T08:13:30.265724Z",
     "start_time": "2022-07-01T08:13:30.243781Z"
    }
   },
   "outputs": [],
   "source": [
    "from sklearn.preprocessing import StandardScaler\n",
    "\n",
    "scaler = StandardScaler()\n",
    "scaler.fit(surv_2)\n",
    "surv_2_sclaed = scaler.transform(surv_2)\n",
    "\n",
    "surv_2_scales = pd.DataFrame(data= surv_2_sclaed, columns=surv_2.columns)"
   ]
  },
  {
   "cell_type": "code",
   "execution_count": 80,
   "id": "33020f55",
   "metadata": {
    "ExecuteTime": {
     "end_time": "2022-07-01T08:17:53.129252Z",
     "start_time": "2022-07-01T08:17:52.958854Z"
    }
   },
   "outputs": [
    {
     "data": {
      "text/plain": [
       "<AxesSubplot:xlabel='Survived', ylabel='Density'>"
      ]
     },
     "execution_count": 80,
     "metadata": {},
     "output_type": "execute_result"
    },
    {
     "data": {
      "image/png": "[encoded data removed]",
      "text/plain": [
       "<Figure size 432x288 with 1 Axes>"
      ]
     },
     "metadata": {
      "needs_background": "light"
     },
     "output_type": "display_data"
    }
   ],
   "source": [
    "import seaborn as sns\n",
    "sns.kdeplot(surv_2_scales['Survived'])\n",
    "sns.kdeplot(surv_2_scales['Pclass'])\n",
    "sns.kdeplot(surv_2_scales['Sex'])\n",
    "sns.kdeplot(surv_2_scales['Age'])\n",
    "sns.kdeplot(surv_2_scales['Embarked'])"
   ]
  },
  {
   "cell_type": "code",
   "execution_count": null,
   "id": "1e5c35a2",
   "metadata": {},
   "outputs": [],
   "source": []
  }
 ],
 "metadata": {
  "kernelspec": {
   "display_name": "Python 3 (ipykernel)",
   "language": "python",
   "name": "python3"
  },
  "language_info": {
   "codemirror_mode": {
    "name": "ipython",
    "version": 3
   },
   "file_extension": ".py",
   "mimetype": "text/x-python",
   "name": "python",
   "nbconvert_exporter": "python",
   "pygments_lexer": "ipython3",
   "version": "3.8.7"
  },
  "toc": {
   "base_numbering": 1,
   "nav_menu": {},
   "number_sections": true,
   "sideBar": true,
   "skip_h1_title": false,
   "title_cell": "Table of Contents",
   "title_sidebar": "Contents",
   "toc_cell": false,
   "toc_position": {},
   "toc_section_display": true,
   "toc_window_display": false
  }
 },
 "nbformat": 4,
 "nbformat_minor": 5
}
